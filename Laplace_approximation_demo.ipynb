{
 "cells": [
  {
   "cell_type": "code",
   "execution_count": 1,
   "metadata": {},
   "outputs": [],
   "source": [
    "import numpy as np\n",
    "import random\n",
    "import matplotlib.pyplot as plt\n",
    "from scipy.stats import multivariate_normal\n",
    "from scipy import optimize \n",
    "import math\n",
    "import pandas as pd"
   ]
  },
  {
   "cell_type": "markdown",
   "metadata": {},
   "source": [
    "We first need generate some 'true' data. We use the  $\\theta_{11} = 400$ and  $\\theta_{12} = 5000$ as true parameter  $\\theta$"
   ]
  },
  {
   "cell_type": "code",
   "execution_count": 2,
   "metadata": {},
   "outputs": [],
   "source": [
    "def generate_obs_y_i(m,n,d):\n",
    "    '''\n",
    "    This function is used to generated the observation data, y\n",
    "    input:\n",
    "        m:   the number of model\n",
    "        n:   the number of run\n",
    "        d:   the design point\n",
    "    output:\n",
    "        obs_y: the data drawn from the 'true' distribution\n",
    "    '''\n",
    "    \n",
    "    obs_y = []\n",
    "    theta_11 = 400\n",
    "    theta_12 = 5000\n",
    "    \n",
    "    # fix the design point\n",
    "    x_i1 = d[0]\n",
    "    x_i2 = d[1]\n",
    "    \n",
    "    sigma_square = np.random.uniform(0,1)\n",
    "    \n",
    "    for _ in range(n):\n",
    "        # obtain the parameter\n",
    "        if m == 1:\n",
    "            xi_m = np.exp(-theta_11 * x_i1 * np.exp(-theta_12/x_i2))\n",
    "        \n",
    "        y_i = np.random.normal(xi_m,sigma_square)\n",
    "        obs_y.append(y_i)\n",
    "    \n",
    "    return obs_y"
   ]
  },
  {
   "cell_type": "code",
   "execution_count": 3,
   "metadata": {
    "scrolled": true
   },
   "outputs": [],
   "source": [
    "# We fix the design point first\n",
    "x_i1 = random.random()*150\n",
    "x_i2 = random.random()*150 + 300\n",
    "d = [x_i1,x_i2]\n",
    "\n",
    "# generate 50 'true' data\n",
    "obs_data = np.array(generate_obs_y_i(1,50,d))"
   ]
  },
  {
   "cell_type": "code",
   "execution_count": 4,
   "metadata": {},
   "outputs": [
    {
     "data": {
      "text/plain": [
       "[<matplotlib.lines.Line2D at 0x7ff748043250>]"
      ]
     },
     "execution_count": 4,
     "metadata": {},
     "output_type": "execute_result"
    },
    {
     "data": {
      "image/png": "[encoded data removed]",
      "text/plain": [
       "<Figure size 432x288 with 1 Axes>"
      ]
     },
     "metadata": {
      "needs_background": "light"
     },
     "output_type": "display_data"
    }
   ],
   "source": [
    "from scipy.stats.kde import gaussian_kde\n",
    "from numpy import linspace\n",
    "\n",
    "kde = gaussian_kde(obs_data)\n",
    "dist_space = linspace(min(obs_data), max(obs_data), 100)\n",
    "plt.plot(dist_space, kde(dist_space))"
   ]
  },
  {
   "cell_type": "markdown",
   "metadata": {},
   "source": [
    "Next, we need to find the posterior distribution. First we let <br>\n",
    "<center>$p(\\theta|y) = kp(y|\\theta)p(\\theta) \\tag{1}$</center><br>\n",
    "where we let $k=1$ as the normalize constant just for convience. The likelihood function is $p(y|\\theta)$ and prior is\n",
    "$p(\\theta)$ = obs_data.<br><br>\n",
    "\n",
    "First, we know that $y_i$ is i.i.d and $y_i$ ~ $N(\\eta_m(\\theta;d_i),\\sigma^2)$. Hence we can have likelihood function as<br>\n",
    "\n",
    "$$\n",
    "\\begin{align}\n",
    "l(\\theta) =& N(y_1;\\eta_m(\\theta;d_i),\\sigma^2) \\times N(y_1;\\eta_m(\\theta;d_i),\\sigma^2) \\times ... \\times N(y_n;\\eta_m(\\theta;d_i),\\sigma^2) \\\\\n",
    "          =& \\prod_{i=0}^n N(y_i;\\eta_m(\\theta;d_i),\\sigma^2) \\tag{2}\n",
    "\\end{align}\n",
    "$$<br>\n",
    "\n",
    "Hence, the log-likelihood fucntion is <br>\n",
    "$$\n",
    "\\begin{align}\n",
    "L(\\theta) =& log(\\prod_{i=0}^n N(y_i;\\eta_m(\\theta;d_i),\\sigma^2)) \\\\\n",
    "          =& \\sum_{i=1}^n log(N(y_i;\\eta_m(\\theta;d_i),\\sigma^2)) \\tag{3}\n",
    "\\end{align}\n",
    "$$<br>\n",
    "\n",
    "Then we can rewrite $\\tag{1}$ as\n",
    "$$\n",
    "\\begin{align}\n",
    "p(\\theta|y) =& kp(y|\\theta)p(\\theta) \\\\\n",
    "            =& log(p(y|\\theta)p(\\theta))\\\\\n",
    "            =& log(p(y|\\theta)) + log(p(\\theta))\\\\\n",
    "            =& \\sum_{i=1}^n log(N(y_i;\\eta_m(\\theta;d_i),\\sigma^2)) + log(p(\\theta)) \\tag{4}\n",
    "\\end{align}\n",
    "$$<br>\n",
    "where we let k = 1 for now.\n",
    "\n",
    "\n"
   ]
  },
  {
   "cell_type": "code",
   "execution_count": 5,
   "metadata": {},
   "outputs": [],
   "source": [
    "def mu(theta,d):\n",
    "    theta_11 = theta[0]\n",
    "    theta_12 = theta[1]\n",
    "    x_i1 = d[0]\n",
    "    x_i2 = d[1]\n",
    "    \n",
    "    return np.exp(-theta_11 * x_i1 * np.exp(-theta_12/x_i2))"
   ]
  },
  {
   "cell_type": "code",
   "execution_count": 6,
   "metadata": {},
   "outputs": [],
   "source": [
    "def posterior(theta,y,d,sigma):\n",
    "    likelihood = 0\n",
    "    \n",
    "    for i in range(len(y)):\n",
    "        p = 1/np.sqrt(2*math.pi*sigma**2) * np.exp(-0.5* (y[i] - mu(theta,d))**2 / sigma**2)\n",
    "        likelihood = likelihood + np.log(p)\n",
    "    \n",
    "    temp = np.ones(2) * likelihood\n",
    "    \n",
    "    return -likelihood "
   ]
  },
  {
   "cell_type": "code",
   "execution_count": 14,
   "metadata": {},
   "outputs": [
    {
     "name": "stdout",
     "output_type": "stream",
     "text": [
      "47.700911734417765\n",
      "[ 397.95117302 5075.60003718]\n"
     ]
    },
    {
     "data": {
      "text/plain": [
       "      fun: 47.676457875023154\n",
       " hess_inv: array([[ 21197913.57130272, -22039088.47303743],\n",
       "       [-22039088.47303743,  22913644.93020164]])\n",
       "      jac: array([7.15255737e-06, 5.24520874e-06])\n",
       "  message: 'Optimization terminated successfully.'\n",
       "     nfev: 48\n",
       "      nit: 5\n",
       "     njev: 16\n",
       "   status: 0\n",
       "  success: True\n",
       "        x: array([-377.42416009, 5881.74392376])"
      ]
     },
     "execution_count": 14,
     "metadata": {},
     "output_type": "execute_result"
    }
   ],
   "source": [
    "theta = np.array([np.random.normal(400,25),np.random.normal(5000,250)])\n",
    "sigma = np.random.uniform(0,1)\n",
    "\n",
    "print(posterior(theta,obs_data,d,sigma))\n",
    "print(theta)\n",
    "\n",
    "optimize.minimize(posterior, theta, args=(obs_data,d,sigma))"
   ]
  },
  {
   "cell_type": "markdown",
   "metadata": {},
   "source": [
    "### Question:\n",
    "I use scipy.optimisation to implement the optimisation method to find the ${argmax}_{\\theta} p(y|\\theta)p(\\theta)$. But the result is wrong for most of time. What kind of optimisation method R provided? I can just apply the method from R."
   ]
  },
  {
   "cell_type": "code",
   "execution_count": null,
   "metadata": {},
   "outputs": [],
   "source": []
  }
 ],
 "metadata": {
  "kernelspec": {
   "display_name": "Python 3",
   "language": "python",
   "name": "python3"
  },
  "language_info": {
   "codemirror_mode": {
    "name": "ipython",
    "version": 3
   },
   "file_extension": ".py",
   "mimetype": "text/x-python",
   "name": "python",
   "nbconvert_exporter": "python",
   "pygments_lexer": "ipython3",
   "version": "3.8.3"
  }
 },
 "nbformat": 4,
 "nbformat_minor": 4
}
