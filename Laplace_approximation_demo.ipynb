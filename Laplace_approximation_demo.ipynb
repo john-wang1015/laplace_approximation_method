{
 "cells": [
  {
   "cell_type": "code",
   "execution_count": 1,
   "metadata": {},
   "outputs": [],
   "source": [
    "import numpy as np\n",
    "import random\n",
    "import matplotlib.pyplot as plt\n",
    "from scipy.stats import multivariate_normal,norm\n",
    "from scipy import optimize \n",
    "import math\n",
    "import pandas as pd"
   ]
  },
  {
   "cell_type": "markdown",
   "metadata": {},
   "source": [
    "We first need generate some 'true' data. We use the  $\\theta_{11} = 400$ and  $\\theta_{12} = 5000$ as true parameter  $\\theta$"
   ]
  },
  {
   "cell_type": "code",
   "execution_count": 2,
   "metadata": {},
   "outputs": [],
   "source": [
    "def generate_obs_y_i(theta,d,sigma):\n",
    "    '''\n",
    "    This function is used to generated the observation data, y\n",
    "    input:\n",
    "        m:   the number of model\n",
    "        n:   the number of run\n",
    "        d:   the design point\n",
    "    output:\n",
    "        obs_y: the data drawn from the 'true' distribution\n",
    "    '''\n",
    "    \n",
    "    obs_y = []\n",
    "    \n",
    "    for i in range(n):\n",
    "        # obtain the parameter\n",
    "        xi_m = np.exp(-theta[0] * d[i][0] * np.exp(-theta[1]/d[i][1]))\n",
    "        \n",
    "        y_i = np.random.normal(xi_m,sigma)\n",
    "        obs_y.append(y_i)\n",
    "    \n",
    "    return obs_y"
   ]
  },
  {
   "cell_type": "code",
   "execution_count": 3,
   "metadata": {
    "scrolled": true
   },
   "outputs": [],
   "source": [
    "theta = [400,5000]\n",
    "sigma = 0.1\n",
    "\n",
    "n = 50\n",
    "d = []\n",
    "for i in range(n):\n",
    "    x_i1 = random.random()*150\n",
    "    x_i2 = random.random()*150 + 450\n",
    "    d.append([x_i1,x_i2])\n",
    "\n",
    "d = np.array(d)\n",
    "    \n",
    "y_m1 = generate_obs_y_i(theta,d,sigma)"
   ]
  },
  {
   "cell_type": "code",
   "execution_count": 4,
   "metadata": {},
   "outputs": [
    {
     "ename": "NameError",
     "evalue": "name 'y_m2' is not defined",
     "output_type": "error",
     "traceback": [
      "\u001b[0;31m---------------------------------------------------------------------------\u001b[0m",
      "\u001b[0;31mNameError\u001b[0m                                 Traceback (most recent call last)",
      "\u001b[0;32m<ipython-input-4-ea6b9a554496>\u001b[0m in \u001b[0;36m<module>\u001b[0;34m\u001b[0m\n\u001b[1;32m      8\u001b[0m \u001b[0;34m\u001b[0m\u001b[0m\n\u001b[1;32m      9\u001b[0m \u001b[0mplt\u001b[0m\u001b[0;34m.\u001b[0m\u001b[0msubplot\u001b[0m\u001b[0;34m(\u001b[0m\u001b[0;36m2\u001b[0m\u001b[0;34m,\u001b[0m \u001b[0;36m2\u001b[0m\u001b[0;34m,\u001b[0m \u001b[0;36m2\u001b[0m\u001b[0;34m)\u001b[0m\u001b[0;34m\u001b[0m\u001b[0;34m\u001b[0m\u001b[0m\n\u001b[0;32m---> 10\u001b[0;31m \u001b[0mplt\u001b[0m\u001b[0;34m.\u001b[0m\u001b[0mplot\u001b[0m\u001b[0;34m(\u001b[0m\u001b[0md\u001b[0m\u001b[0;34m[\u001b[0m\u001b[0;34m:\u001b[0m\u001b[0;34m,\u001b[0m\u001b[0;36m0\u001b[0m\u001b[0;34m]\u001b[0m\u001b[0;34m,\u001b[0m\u001b[0my_m2\u001b[0m\u001b[0;34m,\u001b[0m\u001b[0;34m'*'\u001b[0m\u001b[0;34m)\u001b[0m\u001b[0;34m\u001b[0m\u001b[0;34m\u001b[0m\u001b[0m\n\u001b[0m\u001b[1;32m     11\u001b[0m \u001b[0mplt\u001b[0m\u001b[0;34m.\u001b[0m\u001b[0mxlabel\u001b[0m\u001b[0;34m(\u001b[0m\u001b[0;34mr\"${\\theta}_1$\"\u001b[0m\u001b[0;34m)\u001b[0m\u001b[0;34m\u001b[0m\u001b[0;34m\u001b[0m\u001b[0m\n\u001b[1;32m     12\u001b[0m \u001b[0mplt\u001b[0m\u001b[0;34m.\u001b[0m\u001b[0mylabel\u001b[0m\u001b[0;34m(\u001b[0m\u001b[0;34m\"$y_{m2}$\"\u001b[0m\u001b[0;34m)\u001b[0m\u001b[0;34m\u001b[0m\u001b[0;34m\u001b[0m\u001b[0m\n",
      "\u001b[0;31mNameError\u001b[0m: name 'y_m2' is not defined"
     ]
    },
    {
     "data": {
      "text/plain": [
       "<Figure size 432x288 with 0 Axes>"
      ]
     },
     "metadata": {},
     "output_type": "display_data"
    },
    {
     "data": {
      "image/png": "[encoded data removed]",
      "text/plain": [
       "<Figure size 1080x1080 with 2 Axes>"
      ]
     },
     "metadata": {
      "needs_background": "light"
     },
     "output_type": "display_data"
    }
   ],
   "source": [
    "fig = plt.figure()\n",
    "plt.figure(figsize=(15,15))\n",
    "\n",
    "plt.subplot(2, 2, 1)\n",
    "plt.plot(d[:,0],y_m1,'*')\n",
    "plt.xlabel(r\"${\\theta}_1$\")\n",
    "plt.ylabel(\"$y_{m1}$\")\n",
    "\n",
    "plt.subplot(2, 2, 2)\n",
    "plt.plot(d[:,0],y_m2,'*')\n",
    "plt.xlabel(r\"${\\theta}_1$\")\n",
    "plt.ylabel(\"$y_{m2}$\")\n",
    "\n",
    "plt.subplot(2, 2, 3)\n",
    "plt.plot(d[:,0],y_m3,'*')\n",
    "plt.xlabel(r\"${\\theta}_1$\")\n",
    "plt.ylabel(\"$y_{m3}$\")\n",
    "\n",
    "plt.subplot(2, 2, 4)\n",
    "plt.plot(d[:,0],y_m4,'*')\n",
    "plt.xlabel(r\"${\\theta}_1$\")\n",
    "plt.ylabel(\"$y_{m4}$\")\n"
   ]
  },
  {
   "cell_type": "code",
   "execution_count": null,
   "metadata": {},
   "outputs": [],
   "source": [
    "fig1 = plt.figure()\n",
    "plt.figure(figsize=(15,15))\n",
    "\n",
    "plt.subplot(2, 2, 1)\n",
    "plt.plot(d[:,1],y_m1,'*')\n",
    "plt.xlabel(r\"${\\theta}_2$\")\n",
    "plt.ylabel(\"$y_{m1}$\")\n",
    "\n",
    "plt.subplot(2, 2, 2)\n",
    "plt.plot(d[:,1],y_m2,'*')\n",
    "plt.xlabel(r\"${\\theta}_2$\")\n",
    "plt.ylabel(\"$y_{m2}$\")\n",
    "\n",
    "plt.subplot(2, 2, 3)\n",
    "plt.plot(d[:,1],y_m3,'*')\n",
    "plt.xlabel(r\"${\\theta}_2$\")\n",
    "plt.ylabel(\"$y_{m3}$\")\n",
    "\n",
    "plt.subplot(2, 2, 4)\n",
    "plt.plot(d[:,1],y_m4,'*')\n",
    "plt.xlabel(r\"${\\theta}_2$\")\n",
    "plt.ylabel(\"$y_{m4}$\")"
   ]
  },
  {
   "cell_type": "markdown",
   "metadata": {},
   "source": [
    "Next, we need to find the posterior distribution. First we let <br>\n",
    "<center>$p(\\theta|y) = kp(y|\\theta)p(\\theta) \\tag{1}$</center><br>\n",
    "where we let $k=1$ as the normalize constant just for convience. The likelihood function is $p(y|\\theta)$ and prior is\n",
    "$p(\\theta)$ = obs_data.<br><br>\n",
    "\n",
    "First, we know that $y_i$ is i.i.d and $y_i$ ~ $N(\\eta_m(\\theta;d_i),\\sigma^2)$. Hence we can have likelihood function as<br>\n",
    "\n",
    "$$\n",
    "\\begin{align}\n",
    "l(\\theta) =& N(y_1;\\eta_m(\\theta;d_i),\\sigma^2) \\times N(y_1;\\eta_m(\\theta;d_i),\\sigma^2) \\times ... \\times N(y_n;\\eta_m(\\theta;d_i),\\sigma^2) \\\\\n",
    "          =& \\prod_{i=0}^n N(y_i;\\eta_m(\\theta;d_i),\\sigma^2) \\tag{2}\n",
    "\\end{align}\n",
    "$$<br>\n",
    "\n",
    "Hence, the log-likelihood fucntion is <br>\n",
    "$$\n",
    "\\begin{align}\n",
    "L(\\theta) =& log(\\prod_{i=0}^n N(y_i;\\eta_m(\\theta;d_i),\\sigma^2)) \\\\\n",
    "          =& \\sum_{i=1}^n log(N(y_i;\\eta_m(\\theta;d_i),\\sigma^2)) \\tag{3}\n",
    "\\end{align}\n",
    "$$<br>\n",
    "\n",
    "Then we can rewrite $\\tag{1}$ as\n",
    "$$\n",
    "\\begin{align}\n",
    "p(\\theta|y) =& kp(y|\\theta)p(\\theta) \\\\\n",
    "            =& log(p(y|\\theta)p(\\theta))\\\\\n",
    "            =& log(p(y|\\theta)) + log(p(\\theta))\\\\\n",
    "            =& \\sum_{i=1}^n log(N(y_i;\\eta_m(\\theta;d_i),\\sigma^2)) + log(p(\\theta)) \\tag{4}\n",
    "\\end{align}\n",
    "$$<br>\n",
    "where we let k = 1 for now.\n",
    "\n",
    "\n"
   ]
  },
  {
   "cell_type": "code",
   "execution_count": 5,
   "metadata": {},
   "outputs": [],
   "source": [
    "def mu(theta,d):\n",
    "    return np.exp(-theta[0] * d[0] * np.exp(-theta[1]/d[1]))"
   ]
  },
  {
   "cell_type": "code",
   "execution_count": 6,
   "metadata": {},
   "outputs": [],
   "source": [
    "def log_posterior(theta,y,sigma,d):\n",
    "    log_likelihood = 0\n",
    "    \n",
    "    for i in range(len(y)):\n",
    "        p = 1/np.sqrt(2*math.pi*sigma**2) * np.exp(-0.5* (y[i] - mu(theta,d[1,:]))**2 / sigma**2)\n",
    "        log_likelihood = log_likelihood + np.log(p)\n",
    "    \n",
    "    prior = (1/np.sqrt(2*math.pi*sigma**2) * np.exp(-0.5* (theta[0] - 400)**2 / 25**2))*(1/np.sqrt(2*math.pi*sigma**2) * np.exp(-0.5* (theta[1] - 5000)**2 / 250**2))\n",
    "    \n",
    "    return -(log_likelihood +np.log(prior))\n"
   ]
  },
  {
   "cell_type": "code",
   "execution_count": 7,
   "metadata": {
    "scrolled": false
   },
   "outputs": [
    {
     "name": "stdout",
     "output_type": "stream",
     "text": [
      "Optimization terminated successfully.\n",
      "         Current function value: 159.962646\n",
      "         Iterations: 11\n",
      "         Function evaluations: 96\n",
      "         Gradient evaluations: 24\n"
     ]
    },
    {
     "data": {
      "text/plain": [
       "      fun: 159.96264633033584\n",
       " hess_inv: array([[ 673.41726039,  975.58977363],\n",
       "       [ 975.58977363, 1888.05139551]])\n",
       "      jac: array([-2.86102295e-05,  4.38690186e-05])\n",
       "  message: 'Optimization terminated successfully.'\n",
       "     nfev: 96\n",
       "      nit: 11\n",
       "     njev: 24\n",
       "   status: 0\n",
       "  success: True\n",
       "        x: array([ 390.11728055, 5714.8256122 ])"
      ]
     },
     "execution_count": 7,
     "metadata": {},
     "output_type": "execute_result"
    }
   ],
   "source": [
    "theta = np.array([np.random.normal(400,25),np.random.normal(5000,250)])\n",
    "sigma = 0.1\n",
    "\n",
    "\n",
    "opt_theta_m1 = optimize.minimize(log_posterior, x0 = theta,method = 'BFGS', args=(y_m1,sigma,d),tol=1e-4,options={'disp': True})\n",
    "opt_theta_m1\n",
    "\n"
   ]
  },
  {
   "cell_type": "markdown",
   "metadata": {},
   "source": [
    "# KL divergence:\n",
    "$$\n",
    "\\begin{align}\n",
    "D_{KL}(p(\\theta|y,d)||p(\\theta)) =& \\int_{\\theta} p(\\theta)log(\\frac{p(\\theta|y,d)}{p(\\theta)}) d\\theta \\\\\n",
    "                                 =& \\int_{\\theta} p(\\theta|y,d)[log(p(\\theta|y,d)) - log(p(\\theta))] d\\theta \\tag{5}\n",
    "\\end{align}\n",
    "$$<br>\n",
    "\n",
    "Let the loss function  be\n",
    "<center>$ L = -u(d,y,\\theta) = log(p(\\theta)) - log(p(\\theta|y,d))$ $\\tag{6}$ </center>\n",
    "\n",
    "Then we can have, with integral with respect to $\\theta$\n",
    "<center> $u(d,y) = D_{KL}(p(\\theta|y,d)||p(\\theta)) \\tag{7}$ </center><br>\n",
    "\n",
    "Integration with respect to y for eqn.(7), we can obtain\n",
    "$$\n",
    "\\begin{align}\n",
    "u(d) =& \\int_y D_{KL}(p(\\theta|y,d)||p(\\theta))\\times p(y|d) \\\\\n",
    "     =& \\frac{1}{k} \\sum_{i=1}^{k}  D_{KL}(p(\\theta|y_i,d)||p(\\theta)) \\tag{8}\n",
    "\\end{align}\n",
    "$$<br>"
   ]
  },
  {
   "cell_type": "markdown",
   "metadata": {},
   "source": [
    " "
   ]
  },
  {
   "cell_type": "code",
   "execution_count": null,
   "metadata": {},
   "outputs": [],
   "source": [
    "m = 1000\n",
    "sigma = 0.1\n",
    "\n",
    "n = 50\n",
    "d = []\n",
    "for i in range(n):\n",
    "    x_i1 = random.random()*150\n",
    "    x_i2 = random.random()*150 + 450\n",
    "    d.append([x_i1,x_i2])\n",
    "\n",
    "d = np.array(d)\n",
    "\n",
    "DLK = []\n",
    "\n",
    "prior_mean = [400,5000]\n",
    "prior_cov = [[25,0],[0,250]]\n",
    "\n",
    "for i in range(m):\n",
    "    # we first draw theta from the prior\n",
    "    theta_i = np.random.multivariate_normal([400,5000],[[25,0],[0,250]])\n",
    "    \n",
    "    # generate y_i from the d and theta\n",
    "    y_i = generate_obs_y_i(theta,d,sigma)\n",
    "    \n",
    "    # apply the optimisation method to find the posterior mode\n",
    "    optimization_i = optimize.minimize(log_posterior, x0 = theta_i,method = 'BFGS', args=(y_i,sigma,d),tol=1e-4)#,options={'disp': True})\n",
    "    pos_mode_i = optimization_i.x\n",
    "    cov_i = optimization_i.hess_inv\n",
    "    \n",
    "    mu_T = np.array([[prior_mean[0]-pos_mode_i[0]],[prior_mean[1]-pos_mode_i[1]]])\n",
    "    mu_i = np.array(prior_mean-pos_mode_i)\n",
    "    cov_1_inv = np.array(np.linalg.inv(prior_cov))\n",
    "    \n",
    "    DLK_i = 0.5*(np.trace(np.linalg.inv(prior_cov)*cov_i) + np.matmul(np.matmul(mu_i,np.linalg.inv(prior_cov)),mu_T) - 2 + np.log(np.linalg.det(prior_cov)/np.linalg.det(cov_i)))\n",
    "    \n",
    "    DLK.append(DLK_i)\n",
    "    "
   ]
  },
  {
   "cell_type": "code",
   "execution_count": null,
   "metadata": {},
   "outputs": [],
   "source": [
    "u_d = np.sum(DLK)/m\n",
    "\n",
    "u_d"
   ]
  },
  {
   "cell_type": "code",
   "execution_count": null,
   "metadata": {},
   "outputs": [],
   "source": []
  }
 ],
 "metadata": {
  "kernelspec": {
   "display_name": "Python 3",
   "language": "python",
   "name": "python3"
  },
  "language_info": {
   "codemirror_mode": {
    "name": "ipython",
    "version": 3
   },
   "file_extension": ".py",
   "mimetype": "text/x-python",
   "name": "python",
   "nbconvert_exporter": "python",
   "pygments_lexer": "ipython3",
   "version": "3.7.4"
  }
 },
 "nbformat": 4,
 "nbformat_minor": 4
}
